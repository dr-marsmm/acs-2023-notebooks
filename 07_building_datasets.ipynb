{
 "cells": [
  {
   "cell_type": "code",
   "execution_count": null,
   "id": "cd357940",
   "metadata": {},
   "outputs": [],
   "source": [
    "import json\n",
    "import requests\n",
    "import numpy as np\n",
    "import pandas as pd\n",
    "import matplotlib.pyplot as plt\n",
    "\n",
    "from rdkit import Chem\n",
    "from rdkit.Chem import Descriptors\n",
    "from rdkit.Chem import AllChem\n",
    "from rdkit.Chem import Draw\n",
    "from rdkit.Chem.Draw import IPythonConsole\n",
    "\n"
   ]
  },
  {
   "cell_type": "markdown",
   "id": "bcaee19c",
   "metadata": {},
   "source": [
    "* take iupac names and generate dataset with smiles, mp, bp, etc"
   ]
  },
  {
   "cell_type": "markdown",
   "id": "d6abca5c",
   "metadata": {},
   "source": [
    "* create mol objects with smiles"
   ]
  },
  {
   "cell_type": "markdown",
   "id": "c2803c84",
   "metadata": {},
   "source": [
    "* calculate autocorr2D descriptors\n",
    "* add them to the dataframe"
   ]
  },
  {
   "cell_type": "markdown",
   "id": "08e57b52",
   "metadata": {},
   "source": [
    "* set up ML algorithm to predict mp or bp using autocorr2D"
   ]
  },
  {
   "cell_type": "markdown",
   "id": "a99a8c2a",
   "metadata": {},
   "source": [
    "* view the results, determine best descriptors"
   ]
  },
  {
   "cell_type": "code",
   "execution_count": null,
   "id": "d3b64068",
   "metadata": {},
   "outputs": [],
   "source": []
  }
 ],
 "metadata": {
  "kernelspec": {
   "display_name": "Python 3 (ipykernel)",
   "language": "python",
   "name": "python3"
  },
  "language_info": {
   "codemirror_mode": {
    "name": "ipython",
    "version": 3
   },
   "file_extension": ".py",
   "mimetype": "text/x-python",
   "name": "python",
   "nbconvert_exporter": "python",
   "pygments_lexer": "ipython3",
   "version": "3.10.6"
  }
 },
 "nbformat": 4,
 "nbformat_minor": 5
}
