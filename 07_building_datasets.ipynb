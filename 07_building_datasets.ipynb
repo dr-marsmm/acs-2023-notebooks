{
 "cells": [
  {
   "cell_type": "code",
   "execution_count": null,
   "id": "cd357940",
   "metadata": {},
   "outputs": [],
   "source": [
    "import json\n",
    "import requests\n",
    "import numpy as np\n",
    "import pandas as pd\n",
    "import seaborn as sns\n",
    "import matplotlib.pyplot as plt\n",
    "\n",
    "from sklearn.linear_model import LinearRegression\n",
    "from sklearn.model_selection import train_test_split\n",
    "from sklearn.metrics import r2_score, mean_squared_error\n",
    "\n",
    "from rdkit import Chem\n",
    "from rdkit.Chem import Descriptors, AllChem, PandasTools, Draw\n",
    "from rdkit.Chem.Draw import IPythonConsole\n",
    "\n",
    "df = pd.read_csv(\"data/hydrocarbons.csv\")\n",
    "df.head()"
   ]
  },
  {
   "cell_type": "markdown",
   "id": "bcaee19c",
   "metadata": {},
   "source": [
    "* take iupac names and generate dataset with smiles, mp, bp, etc"
   ]
  },
  {
   "cell_type": "code",
   "execution_count": null,
   "id": "df9bb20a",
   "metadata": {},
   "outputs": [],
   "source": [
    "def fetch_smiles_by_name(name):\n",
    "    error = None\n",
    "    baseurl = 'https://pubchem.ncbi.nlm.nih.gov/rest/pug/compound/name/'\n",
    "    rpath = name + '/property/CanonicalSMILES/JSON'\n",
    "    url = baseurl + rpath\n",
    "    r = requests.get(url)\n",
    "    if r.status_code == 200:\n",
    "        dat = r.json()\n",
    "        smiles = dat['PropertyTable']['Properties'][0]['CanonicalSMILES']\n",
    "    elif r.status_code == 503:\n",
    "        smiles, error = fetch_smiles_by_name(name)\n",
    "    else:\n",
    "        print(f\"problem retrieving data for {name}\")\n",
    "        error = {name: r.status_code}\n",
    "        smiles = ''\n",
    "        \n",
    "    return smiles, error"
   ]
  },
  {
   "cell_type": "code",
   "execution_count": null,
   "id": "92fcfba6",
   "metadata": {},
   "outputs": [],
   "source": [
    "smiles_set = []\n",
    "errors = {}\n",
    "for name in df['IUPAC name']:\n",
    "    print(f\"getting PubChem data for {name}...\")\n",
    "    smiles, error = fetch_smiles_by_name(name)\n",
    "    smiles_set += [smiles]\n",
    "    if error:\n",
    "        errors.update(error)"
   ]
  },
  {
   "cell_type": "code",
   "execution_count": null,
   "id": "763f3720",
   "metadata": {},
   "outputs": [],
   "source": [
    "df['Canonical SMILES'] = smiles_set\n",
    "df = df.copy()\n",
    "df.head()"
   ]
  },
  {
   "cell_type": "markdown",
   "id": "d6abca5c",
   "metadata": {},
   "source": [
    "* create mol objects with smiles"
   ]
  },
  {
   "cell_type": "code",
   "execution_count": null,
   "id": "a828c2a2",
   "metadata": {},
   "outputs": [],
   "source": [
    "mol_list = []\n",
    "for smiles in df['Canonical SMILES']:\n",
    "    mol = Chem.MolFromSmiles(smiles)\n",
    "    mol_list += [mol]\n",
    "\n",
    "mol_list[183]"
   ]
  },
  {
   "cell_type": "markdown",
   "id": "c2803c84",
   "metadata": {},
   "source": [
    "* calculate autocorr2D descriptors\n",
    "* add them to the dataframe"
   ]
  },
  {
   "cell_type": "code",
   "execution_count": null,
   "id": "d587a71a",
   "metadata": {},
   "outputs": [],
   "source": [
    "autocorr2d_set = []\n",
    "for mol in mol_list:\n",
    "    autocorr2d_set += [Chem.rdMolDescriptors.CalcAUTOCORR2D(mol)]\n",
    "\n",
    "for i in range(len(autocorr2d_set[0])):\n",
    "    col_vals = [x[i] for x in autocorr2d_set]\n",
    "    col_name = f'Autocorr2D-{i+1}'\n",
    "    df[col_name] = col_vals\n",
    "    df = df.copy()    # jupyter gives a performance warning that the dataframe is highly fragmented without this\n",
    "\n",
    "df.head()"
   ]
  },
  {
   "cell_type": "markdown",
   "id": "08e57b52",
   "metadata": {},
   "source": [
    "* set up ML algorithm to predict mp or bp using autocorr2D"
   ]
  },
  {
   "cell_type": "code",
   "execution_count": null,
   "id": "5a4c0650",
   "metadata": {},
   "outputs": [],
   "source": [
    "newdf = df.dropna(axis=0, subset='Melting point')\n",
    "X = newdf.iloc[:,8:]\n",
    "Y = newdf['Melting point']"
   ]
  },
  {
   "cell_type": "code",
   "execution_count": null,
   "id": "4a251b35",
   "metadata": {},
   "outputs": [],
   "source": [
    "model = LinearRegression()\n",
    "model.fit(X, Y)"
   ]
  },
  {
   "cell_type": "markdown",
   "id": "a99a8c2a",
   "metadata": {},
   "source": [
    "* view the results, determine best descriptors"
   ]
  }
 ],
 "metadata": {
  "kernelspec": {
   "display_name": "Python 3 (ipykernel)",
   "language": "python",
   "name": "python3"
  },
  "language_info": {
   "codemirror_mode": {
    "name": "ipython",
    "version": 3
   },
   "file_extension": ".py",
   "mimetype": "text/x-python",
   "name": "python",
   "nbconvert_exporter": "python",
   "pygments_lexer": "ipython3",
   "version": "3.10.6"
  }
 },
 "nbformat": 4,
 "nbformat_minor": 5
}
