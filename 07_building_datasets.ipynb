{
 "cells": [
  {
   "cell_type": "code",
   "execution_count": 1,
   "id": "cd357940",
   "metadata": {},
   "outputs": [
    {
     "data": {
      "text/html": [
       "<div>\n",
       "<style scoped>\n",
       "    .dataframe tbody tr th:only-of-type {\n",
       "        vertical-align: middle;\n",
       "    }\n",
       "\n",
       "    .dataframe tbody tr th {\n",
       "        vertical-align: top;\n",
       "    }\n",
       "\n",
       "    .dataframe thead th {\n",
       "        text-align: right;\n",
       "    }\n",
       "</style>\n",
       "<table border=\"1\" class=\"dataframe\">\n",
       "  <thead>\n",
       "    <tr style=\"text-align: right;\">\n",
       "      <th></th>\n",
       "      <th>Class of hydrocarbon</th>\n",
       "      <th>IUPAC name</th>\n",
       "      <th>Melting point</th>\n",
       "      <th>Boiling point</th>\n",
       "      <th>Density@20å¡C*</th>\n",
       "      <th>Flash point</th>\n",
       "      <th>Autoignition temp</th>\n",
       "    </tr>\n",
       "  </thead>\n",
       "  <tbody>\n",
       "    <tr>\n",
       "      <th>0</th>\n",
       "      <td>Trimetylalkane</td>\n",
       "      <td>2,2,4-Trimethylpentane</td>\n",
       "      <td>-107.0</td>\n",
       "      <td>99.0</td>\n",
       "      <td>0.69</td>\n",
       "      <td>NaN</td>\n",
       "      <td>396</td>\n",
       "    </tr>\n",
       "    <tr>\n",
       "      <th>1</th>\n",
       "      <td>Triaromatics</td>\n",
       "      <td>Phenanthrene</td>\n",
       "      <td>99.0</td>\n",
       "      <td>338.0</td>\n",
       "      <td>1.18</td>\n",
       "      <td>171</td>\n",
       "      <td>&gt;450</td>\n",
       "    </tr>\n",
       "    <tr>\n",
       "      <th>2</th>\n",
       "      <td>Triaromatics</td>\n",
       "      <td>Anthracene</td>\n",
       "      <td>216.0</td>\n",
       "      <td>341.0</td>\n",
       "      <td>1.2825</td>\n",
       "      <td>NaN</td>\n",
       "      <td>NaN</td>\n",
       "    </tr>\n",
       "    <tr>\n",
       "      <th>3</th>\n",
       "      <td>Triaromatics</td>\n",
       "      <td>1-methylanthracene</td>\n",
       "      <td>86.0</td>\n",
       "      <td>342.0</td>\n",
       "      <td>1.04799</td>\n",
       "      <td>NaN</td>\n",
       "      <td>NaN</td>\n",
       "    </tr>\n",
       "    <tr>\n",
       "      <th>4</th>\n",
       "      <td>Triaromatics</td>\n",
       "      <td>2-methylanthracene</td>\n",
       "      <td>209.0</td>\n",
       "      <td>340.0</td>\n",
       "      <td>1.8</td>\n",
       "      <td>NaN</td>\n",
       "      <td>NaN</td>\n",
       "    </tr>\n",
       "  </tbody>\n",
       "</table>\n",
       "</div>"
      ],
      "text/plain": [
       "  Class of hydrocarbon              IUPAC name  Melting point  Boiling point  \\\n",
       "0       Trimetylalkane  2,2,4-Trimethylpentane         -107.0           99.0   \n",
       "1         Triaromatics            Phenanthrene           99.0          338.0   \n",
       "2         Triaromatics              Anthracene          216.0          341.0   \n",
       "3         Triaromatics      1-methylanthracene           86.0          342.0   \n",
       "4         Triaromatics      2-methylanthracene          209.0          340.0   \n",
       "\n",
       "  Density@20å¡C* Flash point Autoignition temp  \n",
       "0           0.69         NaN               396  \n",
       "1           1.18         171              >450  \n",
       "2         1.2825         NaN               NaN  \n",
       "3        1.04799         NaN               NaN  \n",
       "4            1.8         NaN               NaN  "
      ]
     },
     "execution_count": 1,
     "metadata": {},
     "output_type": "execute_result"
    }
   ],
   "source": [
    "import json\n",
    "import requests\n",
    "import numpy as np\n",
    "import pandas as pd\n",
    "import seaborn as sns\n",
    "import matplotlib.pyplot as plt\n",
    "\n",
    "from rdkit import Chem\n",
    "from rdkit.Chem import Descriptors, AllChem, PandasTools, Draw\n",
    "from rdkit.Chem.Draw import IPythonConsole\n",
    "\n",
    "df = pd.read_csv(\"data/hydrocarbons.csv\")\n",
    "df.head()"
   ]
  },
  {
   "cell_type": "markdown",
   "id": "bcaee19c",
   "metadata": {},
   "source": [
    "* take iupac names and generate dataset with smiles, mp, bp, etc"
   ]
  },
  {
   "cell_type": "markdown",
   "id": "d6abca5c",
   "metadata": {},
   "source": [
    "* create mol objects with smiles"
   ]
  },
  {
   "cell_type": "markdown",
   "id": "c2803c84",
   "metadata": {},
   "source": [
    "* calculate autocorr2D descriptors\n",
    "* add them to the dataframe"
   ]
  },
  {
   "cell_type": "markdown",
   "id": "08e57b52",
   "metadata": {},
   "source": [
    "* set up ML algorithm to predict mp or bp using autocorr2D"
   ]
  },
  {
   "cell_type": "markdown",
   "id": "a99a8c2a",
   "metadata": {},
   "source": [
    "* view the results, determine best descriptors"
   ]
  }
 ],
 "metadata": {
  "kernelspec": {
   "display_name": "Python 3 (ipykernel)",
   "language": "python",
   "name": "python3"
  },
  "language_info": {
   "codemirror_mode": {
    "name": "ipython",
    "version": 3
   },
   "file_extension": ".py",
   "mimetype": "text/x-python",
   "name": "python",
   "nbconvert_exporter": "python",
   "pygments_lexer": "ipython3",
   "version": "3.10.6"
  }
 },
 "nbformat": 4,
 "nbformat_minor": 5
}
