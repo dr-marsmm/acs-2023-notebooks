{
 "cells": [
  {
   "cell_type": "code",
   "execution_count": 1,
   "id": "cd357940",
   "metadata": {},
   "outputs": [],
   "source": [
    "import json\n",
    "import numpy as np\n",
    "import pandas as pd\n",
    "import matplotlib.pyplot as plt\n",
    "\n",
    "from rdkit import Chem\n",
    "from rdkit.Chem import Descriptors\n",
    "from rdkit.Chem import AllChem\n",
    "from rdkit.Chem import Draw\n",
    "from rdkit.Chem.Draw import IPythonConsole\n",
    "\n",
    "# Create a list of Mol objects\n",
    "amino_acid_supplier = Chem.SDMolSupplier('data/amino_acids/amino_acids-nat20.sdf', sanitize=False, removeHs=False, strictParsing=False)\n",
    "\n",
    "# Set flags for a limited sanitization (full sanitization results in bad aromaticity detection).\n",
    "s_flags = Chem.rdmolops.SanitizeFlags.SANITIZE_CLEANUP|Chem.rdmolops.SanitizeFlags.SANITIZE_FINDRADICALS|Chem.rdmolops.SanitizeFlags.SANITIZE_CLEANUPCHIRALITY|Chem.rdmolops.SanitizeFlags.SANITIZE_PROPERTIES|Chem.rdmolops.SanitizeFlags.SANITIZE_ADJUSTHS|Chem.rdmolops.SanitizeFlags.SANITIZE_SETHYBRIDIZATION\n",
    "\n",
    "# Make a list of the molecule names, instantiated Mol objects and sanitize using the flags set\n",
    "mol_list = []\n",
    "amino_acids = []\n",
    "for mol in amino_acid_supplier:\n",
    "    mol_name = mol.GetProp('_Name')\n",
    "    mol_list += [mol_name]\n",
    "    newmol = Chem.Mol(mol)    # See \"Creating, Visualizing, ...\" for why this is necessary\n",
    "    amino_acids += [newmol]\n",
    "    Chem.SanitizeMol(mol, sanitizeOps=s_flags, catchErrors=True)"
   ]
  },
  {
   "cell_type": "code",
   "execution_count": 16,
   "id": "78048421",
   "metadata": {},
   "outputs": [
    {
     "name": "stdout",
     "output_type": "stream",
     "text": [
      "Ala:\tQNAYBMKLOCPYGJ-REOHCLBHSA-N\n",
      "Arg:\tODKSFYDXXFIFQN-BYPYZUCNSA-N\n",
      "Asn:\tDCXYFEDJOCDNAF-REOHCLBHSA-N\n",
      "Asp:\tCKLJMWTZIZZHCS-REOHCLBHSA-N\n",
      "Cys:\tXUJNEKJLAYXESH-REOHCLBHSA-N\n",
      "Gln:\tZDXPYRJPNDTMRX-VKHMYHEASA-N\n",
      "Glu:\tWHUUTDBJXJRKMK-VKHMYHEASA-N\n",
      "Gly:\tDHMQDGOQFOQNFH-UHFFFAOYSA-N\n",
      "His:\tHNDVDQJCIGZPNO-YFKPBYRVSA-N\n",
      "Ile:\tAGPKZVBTJJNPAG-UHNVWZDZSA-N\n",
      "Leu:\tROHFNLRQFUQHCH-YFKPBYRVSA-N\n",
      "Lys:\tKDXKERNSBIXSRK-YFKPBYRVSA-N\n",
      "Met:\tFFEARJCKVFRZRR-BYPYZUCNSA-N\n",
      "Phe:\tCOLNVLDHVKWLRT-QMMMGPOBSA-N\n",
      "Pro:\tONIBWKKTOPOVIA-BYPYZUCNSA-N\n",
      "Ser:\tMTCFGRXMJLQNBG-REOHCLBHSA-N\n",
      "Thr:\tAYFVYJQAPQTCCC-GBXIJSLDSA-N\n",
      "Trp:\tQIVBCDIJIAJPQS-VIFPVBQESA-N\n",
      "Tyr:\tOUYCCCASQSFEME-QMMMGPOBSA-N\n",
      "Val:\tKZSNJWFQEVHDMF-BYPYZUCNSA-N\n"
     ]
    }
   ],
   "source": [
    "def get_inchi(mol):\n",
    "    inchi_plus = Chem.rdinchi.MolToInchi(mol)\n",
    "    inchi = inchi_plus[0]\n",
    "    inchi_key = Chem.rdinchi.InchiToInchiKey(inchi)\n",
    "    \n",
    "    return inchi_key, inchi\n",
    "\n",
    "inchi_list = []\n",
    "inchi_keys = []\n",
    "for i, mol in enumerate(amino_acids):    \n",
    "    key, inchi = get_inchi(mol)\n",
    "    inchi_list += inchi\n",
    "    inchi_keys += [key]\n",
    "    print(f\"{mol_list[i]}:\\t{key}\")"
   ]
  },
  {
   "cell_type": "code",
   "execution_count": 17,
   "id": "c363e871",
   "metadata": {},
   "outputs": [],
   "source": [
    "import requests"
   ]
  },
  {
   "cell_type": "code",
   "execution_count": 18,
   "id": "b587a2d4",
   "metadata": {},
   "outputs": [
    {
     "name": "stdout",
     "output_type": "stream",
     "text": [
      "QNAYBMKLOCPYGJ-REOHCLBHSA-N\n"
     ]
    }
   ],
   "source": [
    "print(inchi_keys[0])"
   ]
  },
  {
   "cell_type": "code",
   "execution_count": 26,
   "id": "0c571a27",
   "metadata": {},
   "outputs": [
    {
     "data": {
      "text/plain": [
       "200"
      ]
     },
     "execution_count": 26,
     "metadata": {},
     "output_type": "execute_result"
    }
   ],
   "source": [
    "baseurl = 'https://pubchem.ncbi.nlm.nih.gov/rest/pug'\n",
    "inp = '/compound/inchikey/' + inchi_keys[0]\n",
    "ops = '/cids/json'\n",
    "url = baseurl + inp + ops \n",
    "r = requests.get(url)\n",
    "r.status_code"
   ]
  },
  {
   "cell_type": "code",
   "execution_count": 27,
   "id": "6e393be1",
   "metadata": {},
   "outputs": [
    {
     "data": {
      "text/plain": [
       "{'IdentifierList': {'CID': [5950, 7311724]}}"
      ]
     },
     "execution_count": 27,
     "metadata": {},
     "output_type": "execute_result"
    }
   ],
   "source": [
    "r.json()"
   ]
  },
  {
   "cell_type": "code",
   "execution_count": 32,
   "id": "07e4800e",
   "metadata": {},
   "outputs": [
    {
     "data": {
      "text/plain": [
       "200"
      ]
     },
     "execution_count": 32,
     "metadata": {},
     "output_type": "execute_result"
    }
   ],
   "source": [
    "url = baseurl + '_view/data/compound/5950/json'\n",
    "r2 = requests.get(url)\n",
    "r2.status_code"
   ]
  },
  {
   "cell_type": "code",
   "execution_count": 50,
   "id": "e3433b00",
   "metadata": {},
   "outputs": [],
   "source": [
    "dump = r2.json()\n",
    "def get_props_section(record):\n",
    "    for i, sec in enumerate(record['Record']['Section']):\n",
    "        if sec['TOCHeading'] == 'Chemical and Physical Properties':\n",
    "            section = record['Record']['Section'][i]\n",
    "            print(section)\n",
    "    return section"
   ]
  },
  {
   "cell_type": "code",
   "execution_count": 51,
   "id": "e753e057",
   "metadata": {},
   "outputs": [
    {
     "name": "stdout",
     "output_type": "stream",
     "text": [
      "{'TOCHeading': 'Chemical and Physical Properties', 'Description': 'Various chemical and physical properties that are experimentally determined for this compound.  See also the Safety and Hazard Properties section (if available), which has additional properties pertinent to chemical safety and hazards.', 'Section': [{'TOCHeading': 'Computed Properties', 'Description': 'Properties of this compound computed from its molecular formula and structure.', 'DisplayControls': {'CreateTable': {'FromInformationIn': 'Subsections', 'NumberOfColumns': 3, 'ColumnHeadings': ['Property Name', 'Property Value', 'Reference'], 'ColumnContents': ['Name', 'Value', 'Reference']}}, 'Section': [{'TOCHeading': 'Molecular Weight', 'Description': 'Molecular weight or molecular mass refers to the mass of a molecule. It is calculated as the sum of the mass of each constituent atom multiplied by the number of atoms of that element in the molecular formula.  The molecular weight is also called the relative molar mass, because molecular weights are reported in daltons, which is defined relative to the mass of the isotope 12C (carbon 12).', 'URL': 'https://www.degruyter.com/document/doi/10.1515/pac-2017-1002/html?lang=en', 'DisplayControls': {'MoveToTop': True}, 'Information': [{'ReferenceNumber': 113, 'Reference': ['Computed by PubChem 2.2 (PubChem release 2021.10.14)'], 'Value': {'StringWithMarkup': [{'String': '89.09'}], 'Unit': 'g/mol'}}]}, {'TOCHeading': 'XLogP3', 'Description': 'XLogP3 is a predicted octanol-water partition coefficient, computed using the algorithm described in J. Chem. Inf. Model. 2007, 47, 6, 2140-2148. It is used as a measure of hydrophilicity or hydrophobicity of a molecule.', 'URL': 'https://pubmed.ncbi.nlm.nih.gov/17985865/', 'Information': [{'ReferenceNumber': 113, 'Reference': ['Computed by XLogP3 3.0 (PubChem release 2021.10.14)'], 'Value': {'Number': [-3]}}]}, {'TOCHeading': 'Hydrogen Bond Donor Count', 'Description': 'The number of hydrogen bond donors in this compound.', 'Information': [{'ReferenceNumber': 113, 'Reference': ['Computed by Cactvs 3.4.8.18 (PubChem release 2021.10.14)'], 'Value': {'Number': [2]}}]}, {'TOCHeading': 'Hydrogen Bond Acceptor Count', 'Description': 'The number of hydrogen bond acceptors in this compound.', 'Information': [{'ReferenceNumber': 113, 'Reference': ['Computed by Cactvs 3.4.8.18 (PubChem release 2021.10.14)'], 'Value': {'Number': [3]}}]}, {'TOCHeading': 'Rotatable Bond Count', 'Description': 'A rotatable bond is defined as any single-order non-ring bond, where atoms on either side of the bond are in turn bound to nonterminal heavy (i.e., non-hydrogen) atoms. That is, where rotation around the bond axis changes the overall shape of the molecule, and generates conformers which can be distinguished by standard fast spectroscopic methods.', 'Information': [{'ReferenceNumber': 113, 'Reference': ['Computed by Cactvs 3.4.8.18 (PubChem release 2021.10.14)'], 'Value': {'Number': [1]}}]}, {'TOCHeading': 'Exact Mass', 'Description': 'The exact mass of an isotopic species is obtained by summing the masses of the individual isotopes of the molecule.', 'Information': [{'ReferenceNumber': 113, 'Reference': ['Computed by PubChem 2.2 (PubChem release 2021.10.14)'], 'Value': {'StringWithMarkup': [{'String': '89.047678466'}], 'Unit': 'g/mol'}}]}, {'TOCHeading': 'Monoisotopic Mass', 'Description': 'The monoisotopic mass is the sum of the masses of the atoms in a molecule using the unbound, ground-state, rest mass of the principal (most abundant) isotope for each element instead of the isotopic average mass.', 'Information': [{'ReferenceNumber': 113, 'Reference': ['Computed by PubChem 2.2 (PubChem release 2021.10.14)'], 'Value': {'StringWithMarkup': [{'String': '89.047678466'}], 'Unit': 'g/mol'}}]}, {'TOCHeading': 'Topological Polar Surface Area', 'Description': 'The topological polar surface area (TPSA) is an estimate of the polar surface area (in Angstroms^2) of a molecule, computed as the surface sum over polar atoms in the molecule.  The implementation follows the paper by Ertl et al. [J. Med. Chem. 2000, 43, 3714-3717]: only N and O are considered, 3D coordinates are not used, and there are various precomputed factors for different hybridizations, charges and participation in aromatic systems.', 'URL': 'https://pubmed.ncbi.nlm.nih.gov/11020286/', 'Information': [{'ReferenceNumber': 113, 'Reference': ['Computed by Cactvs 3.4.8.18 (PubChem release 2021.10.14)'], 'Value': {'Number': [63.3], 'Unit': 'Å²'}}]}, {'TOCHeading': 'Heavy Atom Count', 'Description': 'The number of heavy atoms (i.e., non-hydrogen atoms) in this compound.', 'Information': [{'ReferenceNumber': 113, 'Reference': ['Computed by PubChem'], 'Value': {'Number': [6]}}]}, {'TOCHeading': 'Formal Charge', 'Description': 'Formal charge is the difference between the number of valence electrons of each atom and the number of electrons the atom is associated with. Formal charge assumes any shared electrons are equally shared between the two bonded atoms.', 'Information': [{'ReferenceNumber': 113, 'Reference': ['Computed by PubChem'], 'Value': {'Number': [0]}}]}, {'TOCHeading': 'Complexity', 'Description': 'The complexity rating of a compound is a rough estimate of how complicated a structure is, seen from both the point of view of the elements contained and the displayed structural features including symmetry. This complexity rating is computed using the Bertz/Hendrickson/Ihlenfeldt formula.', 'URL': 'https://pubchemdocs.ncbi.nlm.nih.gov/glossary$complexity', 'Information': [{'ReferenceNumber': 113, 'Reference': ['Computed by Cactvs 3.4.8.18 (PubChem release 2021.10.14)'], 'Value': {'Number': [61.8]}}]}, {'TOCHeading': 'Isotope Atom Count', 'Description': 'Isotope atom count is the number of isotopes that are not most abundant for the corresponding chemical elements.  Isotopes are variants of a chemical element which differ in neutron number.  For example, among three isotopes of carbon (i.e., C-12, C-13, and C-14), the isotope atom count considers the C-13 and C-14 atoms, because C-12 is the most abundant isotope of carbon.', 'Information': [{'ReferenceNumber': 113, 'Reference': ['Computed by PubChem'], 'Value': {'Number': [0]}}]}, {'TOCHeading': 'Defined Atom Stereocenter Count', 'Description': 'An atom stereocenter, also known as a chiral center, is an atom that is attached to four different types of atoms (or groups of atoms) in the tetrahedral arrangement. It can have either (R)- or (S)- configurations.  Some compounds, such as racemic mixtures, have an undefined atom stereocenter, whose (R/S)-configuration is not specifically defined.  The \"defined atom stereocenter count\" is the number of atom stereocenters whose configurations are specifically defined.  ', 'Information': [{'ReferenceNumber': 113, 'Reference': ['Computed by PubChem'], 'Value': {'Number': [1]}}]}, {'TOCHeading': 'Undefined Atom Stereocenter Count', 'Description': 'The number of atom stereocenters whose configurations are not specifically defined.  For the definition of atom stereocenters, see the \"defined atom stereocenter count\" above.', 'Information': [{'ReferenceNumber': 113, 'Reference': ['Computed by PubChem'], 'Value': {'Number': [0]}}]}, {'TOCHeading': 'Defined Bond Stereocenter Count', 'Description': 'A bond stereocenter is a non-rotatable bond around which two atoms can have different arrangement (as in cis- and trans-forms of butene around its double bond).  Some compounds have an undefined bond stereocenter, whose stereochemistry is not specifically defined.  The \"defined bond stereocenter count\" is the number of bond stereocenters whose configurations are specifically defined.  ', 'Information': [{'ReferenceNumber': 113, 'Reference': ['Computed by PubChem'], 'Value': {'Number': [0]}}]}, {'TOCHeading': 'Undefined Bond Stereocenter Count', 'Description': 'The number of bond stereocenters whose configurations are not specifically defined.  For the definition of bond stereocenters, see the \"defined bond stereocenter count\" above.', 'Information': [{'ReferenceNumber': 113, 'Reference': ['Computed by PubChem'], 'Value': {'Number': [0]}}]}, {'TOCHeading': 'Covalently-Bonded Unit Count', 'Description': 'A covalently-bonded unit is a group of atoms connected by covalent bonds, ignoring other bond types (or a single atom without covalent bonds).  The \"covalently-bonded unit count\" property is the number of such units in this compound compound.', 'Information': [{'ReferenceNumber': 113, 'Reference': ['Computed by PubChem'], 'Value': {'Number': [1]}}]}, {'TOCHeading': 'Compound Is Canonicalized', 'Description': \"Whether the compound has successfully passed PubChem's valence bond canonicalization procedure. Some large, complex, or highly symmetric structures may fail this process.\", 'Information': [{'ReferenceNumber': 113, 'Reference': ['Computed by PubChem (release 2021.10.14)'], 'Value': {'StringWithMarkup': [{'String': 'Yes'}]}}]}]}, {'TOCHeading': 'Experimental Properties', 'Description': 'Various experimentally determined properties for this compound.  See also the Safety and Hazard Properties section (if available), which has additional properties pertinent to chemical safety and hazards.', 'Section': [{'TOCHeading': 'Physical Description', 'Description': 'The appearance or features of this compound, including color, odor, state, taste and more in general.', 'Information': [{'ReferenceNumber': 14, 'Value': {'StringWithMarkup': [{'String': 'Other Solid'}]}}, {'ReferenceNumber': 23, 'Value': {'StringWithMarkup': [{'String': 'Solid; [Merck Index] White odorless solid; [HSDB] White crystalline solid; [Sigma-Aldrich MSDS]'}]}}, {'ReferenceNumber': 25, 'Value': {'StringWithMarkup': [{'String': 'Solid'}]}}]}, {'TOCHeading': 'Color/Form', 'Description': 'Color is the aspect of any object that may be described in terms of hue, lightness, and saturation.', 'URL': 'https://www.britannica.com/science/color', 'Information': [{'ReferenceNumber': 24, 'Description': 'PEER REVIEWED', 'Reference': [\"O'Neil, M.J. (ed.). The Merck Index - An Encyclopedia of  Chemicals, Drugs, and Biologicals. 13th Edition, Whitehouse  Station, NJ:  Merck and Co., Inc., 2001., p. 39\"], 'Value': {'StringWithMarkup': [{'String': 'Orthorhombic crystals from water', 'Markup': [{'Start': 27, 'Length': 5, 'URL': 'https://pubchem.ncbi.nlm.nih.gov/compound/water', 'Type': 'PubChem Internal Link', 'Extra': 'CID-962'}]}]}}, {'ReferenceNumber': 24, 'Description': 'PEER REVIEWED', 'Reference': [\"Lewis, R.J. Sax's Dangerous Properties of Industrial  Materials. 10th ed. Volumes 1-3 New York, NY: John Wiley &  Sons Inc., 1999., p. 93\"], 'Value': {'StringWithMarkup': [{'String': 'White crystalline powder'}]}}]}, {'TOCHeading': 'Odor', 'Description': 'The property of certain chemicals, in very small concentrations, to stimulate chemical sense receptors that sample the air or water.', 'URL': 'https://www.britannica.com/science/odor', 'Information': [{'ReferenceNumber': 24, 'Description': 'PEER REVIEWED', 'Reference': [\"Lewis, R.J. Sax's Dangerous Properties of Industrial  Materials. 10th ed. Volumes 1-3 New York, NY: John Wiley &  Sons Inc., 1999., p. 93\"], 'Value': {'StringWithMarkup': [{'String': 'Odorless'}]}}]}, {'TOCHeading': 'Taste', 'Description': 'The sensation of flavor perceived in the mouth and throat on contact with a substance.', 'URL': 'https://www.britannica.com/science/taste-sense', 'Information': [{'ReferenceNumber': 24, 'Description': 'PEER REVIEWED', 'Reference': [\"Lewis, R.J. Sax's Dangerous Properties of Industrial  Materials. 10th ed. Volumes 1-3 New York, NY: John Wiley &  Sons Inc., 1999., p. 93\"], 'Value': {'StringWithMarkup': [{'String': 'Sweet taste'}]}}]}, {'TOCHeading': 'Boiling Point', 'Description': 'The temperature at which this compound changes state from liquid to gas at a given atmospheric pressure.', 'URL': 'https://chem.libretexts.org/Bookshelves/Organic_Chemistry/Organic_Chemistry_Lab_Techniques_(Nichols)/06%3A_Miscellaneous_Techniques/6.02%3A_Boiling_Point', 'Information': [{'ReferenceNumber': 24, 'Description': 'PEER REVIEWED', 'Reference': ['Lide, D.R. CRC Handbook of Chemistry and Physics 86TH  Edition 2005-2006. CRC Press, Taylor & Francis, Boca Raton,  FL 2005, p. 3-10'], 'Value': {'StringWithMarkup': [{'String': '250 °C (sublimes)'}]}}]}, {'TOCHeading': 'Melting Point', 'Description': 'This section provides the melting point and/or freezing point. The melting point is the temperature at which a substance changes state from solid to liquid at atmospheric pressure. When considered as the temperature of the reverse change (from liquid to solid), it is referred to as the freezing point.', 'URL': 'https://chem.libretexts.org/Bookshelves/Organic_Chemistry/Organic_Chemistry_Lab_Techniques_(Nichols)/06%3A_Miscellaneous_Techniques/6.01%3A_Melting_Point', 'Information': [{'ReferenceNumber': 11, 'Reference': ['PhysProp'], 'Value': {'Number': [300], 'Unit': 'dec °C'}}, {'ReferenceNumber': 24, 'Description': 'PEER REVIEWED', 'Reference': ['Lide, D.R. CRC Handbook of Chemistry and Physics 86TH  Edition 2005-2006. CRC Press, Taylor & Francis, Boca Raton,  FL 2005, p. 3-10'], 'Value': {'StringWithMarkup': [{'String': '297 °C (decomposes)'}]}}, {'ReferenceNumber': 25, 'Value': {'StringWithMarkup': [{'String': '300 °C'}]}}]}, {'TOCHeading': 'Solubility', 'Description': 'The solubility of a substance is the amount of that substance that will dissolve in a given amount of solvent. The default solvent is water, if not indicated.', 'URL': 'https://chem.libretexts.org/Courses/Purdue/Purdue%3A_Chem_26505%3A_Organic_Chemistry_I_(Lipton)/Chapter_4._Intermolecular_Forces_and_Physical_Properties/4.4_Solubility', 'Information': [{'ReferenceNumber': 11, 'Reference': ['YALKOWSKY,SH & DANNENFELSER,RM (1992)'], 'Value': {'Number': [164000], 'Unit': 'mg/L (at 25 °C)'}}, {'ReferenceNumber': 24, 'Description': 'PEER REVIEWED', 'Reference': [\"O'Neil, M.J. (ed.). The Merck Index - An Encyclopedia of  Chemicals, Drugs, and Biologicals. 13th Edition, Whitehouse  Station, NJ:  Merck and Co., Inc., 2001., p. 39\"], 'Value': {'StringWithMarkup': [{'String': 'Solubility in cold 80% ethanol = 0.2%', 'Markup': [{'Start': 23, 'Length': 7, 'URL': 'https://pubchem.ncbi.nlm.nih.gov/compound/ethanol', 'Type': 'PubChem Internal Link', 'Extra': 'CID-702'}]}]}}, {'ReferenceNumber': 24, 'Description': 'PEER REVIEWED', 'Reference': ['Lide, D.R. CRC Handbook of Chemistry and Physics 86TH  Edition 2005-2006. CRC Press, Taylor & Francis, Boca Raton,  FL 2005, p. 3-10'], 'Value': {'StringWithMarkup': [{'String': 'Slightly soluble in ethanol, pyridine; insoluble in ether, acetone', 'Markup': [{'Start': 20, 'Length': 7, 'URL': 'https://pubchem.ncbi.nlm.nih.gov/compound/ethanol', 'Type': 'PubChem Internal Link', 'Extra': 'CID-702'}, {'Start': 29, 'Length': 8, 'URL': 'https://pubchem.ncbi.nlm.nih.gov/compound/pyridine', 'Type': 'PubChem Internal Link', 'Extra': 'CID-1049'}, {'Start': 59, 'Length': 7, 'URL': 'https://pubchem.ncbi.nlm.nih.gov/compound/acetone', 'Type': 'PubChem Internal Link', 'Extra': 'CID-180'}]}]}}, {'ReferenceNumber': 24, 'Description': 'PEER REVIEWED', 'Reference': ['Yalkowsky, S.H., He, Yan., Handbook of Aqueous Solubility  Data: An Extensive Compilation of Aqueous Solubility Data  for Organic Compounds Extracted from the  AQUASOL dATAbASE.  CRC Press LLC, Boca Raton, FL. 2003., p. 1992'], 'Value': {'StringWithMarkup': [{'String': 'In water, 1.64X10+5 mg/L at 25 °C', 'Markup': [{'Start': 3, 'Length': 5, 'URL': 'https://pubchem.ncbi.nlm.nih.gov/compound/water', 'Type': 'PubChem Internal Link', 'Extra': 'CID-962'}]}]}}, {'ReferenceNumber': 25, 'Reference': ['Human Metabolome Project'], 'Value': {'StringWithMarkup': [{'String': '204 mg/mL'}]}}]}, {'TOCHeading': 'Density', 'Description': 'This section provides information on the density (with unit) and specific gravity (without unit) of a compound. Density is mass of a unit volume of a compound and commonly expressed in units of kg/m3 or g/cm3. Specific gravity, also known as relative density, is a unit-less quantity, defined as the ratio of the density of a compound to that of a standard reference material (typically, water at 4 °C for liquids and air at room temperature [20 °C or 68 °F] for gases).', 'URL': 'https://chem.libretexts.org/Bookshelves/Introductory_Chemistry/Map%3A_Fundamentals_of_General_Organic_and_Biological_Chemistry_(McMurry_et_al.)/01%3A_Matter_and_Measurements/1.12%3A_Density_and_Specific_Gravity', 'Information': [{'ReferenceNumber': 24, 'Description': 'PEER REVIEWED', 'Reference': ['Lide, D.R. CRC Handbook of Chemistry and Physics 86TH  Edition 2005-2006. CRC Press, Taylor & Francis, Boca Raton,  FL 2005, p. 3-10'], 'Value': {'StringWithMarkup': [{'String': '1.432 g/cu cm at 22 °C'}]}}]}, {'TOCHeading': 'Vapor Pressure', 'Description': 'Vapor pressure (or equilibrium vapor pressure) is the pressure of a vapor in thermodynamic equilibrium with its condensed phases in a closed system.', 'URL': 'https://chem.libretexts.org/Bookshelves/General_Chemistry/Map%3A_Chemistry_-_The_Central_Science_(Brown_et_al.)/11%3A_Liquids_and_Intermolecular_Forces/11.05%3A_Vapor_Pressure', 'Information': [{'ReferenceNumber': 23, 'Value': {'StringWithMarkup': [{'String': '0.00000011 [mmHg]'}]}}, {'ReferenceNumber': 24, 'Description': 'PEER REVIEWED', 'Reference': ['US EPA; Estimation Program Interface (EPI) Suite. Ver.3.12. Nov 30, 2004. Available from, as of Sept 5, 2006: https://www.epa.gov/oppt/exposure/pubs/episuitedl.htm'], 'Value': {'StringWithMarkup': [{'String': '1.05X10-7 mm Hg at 25 °C (est)'}]}}]}, {'TOCHeading': 'LogP', 'Description': 'Log P is the partition coefficient expressed in logarithmic form.  The partition coefficient is the ratio of concentrations of a compound in a mixture of two immiscible solvents at equilibrium.  This ratio is therefore used to compare the solubilities of the solute in these two solvents.  Because octanol and water are the most commonly used pair of solvents for measuring partition coefficients, the Log P values listed in this section refer to octanol/water partition coefficients, unless indicated otherwise.', 'Information': [{'ReferenceNumber': 11, 'Reference': ['SANGSTER (1994)'], 'Value': {'Number': [-2.85]}}, {'ReferenceNumber': 24, 'Description': 'PEER REVIEWED', 'Reference': ['Sangster J; LOGKOW Database. A databank of evaluated octanol-water partition coefficients (Log P). Available from, as of Sept 5, 2006: https://logkow.cisti.nrc.ca/logkow/search.html'], 'Value': {'StringWithMarkup': [{'String': 'log Kow = -2.85'}]}}, {'ReferenceNumber': 25, 'Reference': ['SANGSTER (1994)'], 'Value': {'StringWithMarkup': [{'String': '-2.85'}]}}]}, {'TOCHeading': \"Henry's Law Constant\", 'Description': \"Henry's law states that the amount of dissolved gas (in liquid, such as water) is proportional to its partial pressure in the gas phase. The proportionality factor is called the Henry's law constant and defined as the ratio of a compound's partial pressure in air to the concentration of the compound in water at a given temperature.\", 'URL': 'https://chem.libretexts.org/Bookshelves/Physical_and_Theoretical_Chemistry_Textbook_Maps/Supplemental_Modules_(Physical_and_Theoretical_Chemistry)/Physical_Properties_of_Matter/Solutions_and_Mixtures/Ideal_Solutions/Dissolving_Gases_In_Liquids%2C_Henry%27s_Law', 'Information': [{'ReferenceNumber': 24, 'Description': 'PEER REVIEWED', 'Reference': ['US EPA; Estimation Program Interface (EPI) Suite. Ver.3.12. Nov 30, 2004. Available from, as of Sept 5, 2006: https://www.epa.gov/oppt/exposure/pubs/episuitedl.htm'], 'Value': {'StringWithMarkup': [{'String': \"Henry's Law constant = 1.5X10-9 atm-cu m/mol at 25 °C (est)\"}]}}]}, {'TOCHeading': 'Optical Rotation', 'Description': 'Optical rotation is a property of chiral substances that is expressed as the angle to which the material causes polarized light to rotate at a particular temperature, wavelength, and concentration.', 'URL': 'https://chem.libretexts.org/Bookshelves/Organic_Chemistry/Book%3A_Organic_Chemistry_with_a_Biological_Emphasis_v2.0_(Soderberg)/03%3A_Conformations_and_Stereochemistry/3.06%3A_Optical_Activity', 'Information': [{'ReferenceNumber': 24, 'Description': 'PEER REVIEWED', 'Reference': [\"O'Neil, M.J. (ed.). The Merck Index - An Encyclopedia of  Chemicals, Drugs, and Biologicals. 13th Edition, Whitehouse  Station, NJ:  Merck and Co., Inc., 2001., p. 39\"], 'Value': {'StringWithMarkup': [{'String': 'Specific optical rotation= +2.42 °For D-sodium line at 25 °C (c = 10 in H2O); +13.7 °For D sodium line at 25 °C (c = 2.063 in 6N HCl)', 'Markup': [{'Start': 40, 'Length': 6, 'URL': 'https://pubchem.ncbi.nlm.nih.gov/element/Sodium', 'Type': 'PubChem Internal Link', 'Extra': 'Element-Sodium'}, {'Start': 91, 'Length': 6, 'URL': 'https://pubchem.ncbi.nlm.nih.gov/element/Sodium', 'Type': 'PubChem Internal Link', 'Extra': 'Element-Sodium'}]}]}}, {'ReferenceNumber': 24, 'Description': 'PEER REVIEWED', 'Reference': ['Weast, R.C. (ed.). Handbook of Chemistry and Physics. 60th ed. Boca Raton, Florida: CRC Press Inc., 1979., p. C-103'], 'Value': {'StringWithMarkup': [{'String': 'SPECIFIC OPTICAL ROTATION: +2.8 DEG @ 25 °C/D (WATER, CONCN= 6%); SPECIFIC OPTICAL ROTATION: +9.55 DEG @ 25 °C/D (HYDROCHLORIC ACID)', 'Markup': [{'Start': 47, 'Length': 5, 'URL': 'https://pubchem.ncbi.nlm.nih.gov/compound/WATER', 'Type': 'PubChem Internal Link', 'Extra': 'CID-962'}, {'Start': 114, 'Length': 17, 'URL': 'https://pubchem.ncbi.nlm.nih.gov/compound/HYDROCHLORIC%20ACID', 'Type': 'PubChem Internal Link', 'Extra': 'CID-313'}]}]}}]}, {'TOCHeading': 'Ionization Efficiency', 'Description': 'The ratio of the number of ions formed to the number of electrons or photons used in an ionization process.', 'URL': 'https://goldbook.iupac.org/terms/view/I03196', 'DisplayControls': {'CreateTable': {'FromInformationIn': 'ThisSection', 'NumberOfColumns': 2, 'ColumnContents': ['Name', 'Value']}, 'ListType': 'CommaSeparated'}, 'Information': [{'ReferenceNumber': 44, 'Name': 'Ionization mode', 'Value': {'StringWithMarkup': [{'String': 'Positive'}]}}, {'ReferenceNumber': 44, 'Name': 'logIE', 'Value': {'StringWithMarkup': [{'String': '2.17'}]}}, {'ReferenceNumber': 44, 'Name': 'pH', 'Value': {'StringWithMarkup': [{'String': '2.7'}]}}, {'ReferenceNumber': 44, 'Name': 'Instrument', 'Value': {'StringWithMarkup': [{'String': 'Agilent XCT'}]}}, {'ReferenceNumber': 44, 'Name': 'Ion source', 'Value': {'StringWithMarkup': [{'String': 'Electrospray ionization'}]}}, {'ReferenceNumber': 44, 'Name': 'Additive', 'Value': {'StringWithMarkup': [{'String': 'formic acid (5.3nM)'}]}}, {'ReferenceNumber': 44, 'Name': 'Organic modifier', 'Value': {'StringWithMarkup': [{'String': 'MeCN (80%)'}]}}, {'ReferenceNumber': 44, 'Name': 'Reference', 'Value': {'StringWithMarkup': [{'String': 'DOI:10.1021/acs.analchem.7b00111', 'Markup': [{'Start': 4, 'Length': 29, 'URL': 'https://doi.org/10.1021/acs.analchem.7b00111'}]}]}}]}, {'TOCHeading': 'Dissociation Constants', 'Description': 'A specific type of equilibrium constant that measures the propensity of a larger object to separate (dissociate) reversibly into smaller components, as when a complex falls apart into its component molecules, or when a salt splits up into its component ions. This includes pKa (the negative logarithm of the acid dissociation constant) and pKb (the negative logarithm of the base dissociation constant).', 'Information': [{'ReferenceNumber': 11, 'Name': 'pKa', 'Reference': ['KORTUM,G ET AL (1961)'], 'Value': {'StringWithMarkup': [{'String': '2.34 (at 25 °C)'}]}}, {'ReferenceNumber': 24, 'Description': 'PEER REVIEWED', 'Reference': ['Araki K, Ozeki T; Kirk-Othmer Encyclopedia of Chemical Technology. (2005). NY, NY: John Wiley & Sons; Amino Acids. Online Posting Date: July 18, 2003.'], 'Value': {'StringWithMarkup': [{'String': 'pKa1 = 2.34 /carboxylic acid/; pKa2 = 9.69 /primary amine/'}]}}]}, {'TOCHeading': 'Other Experimental Properties', 'Description': 'Other experimental properties of this chemical.', 'Information': [{'ReferenceNumber': 24, 'Description': 'PEER REVIEWED', 'Reference': ['Budavari, S. (ed.). The Merck Index - Encyclopedia of Chemicals, Drugs and Biologicals. Rahway, NJ: Merck and Co., Inc., 1989., p. 35'], 'Value': {'StringWithMarkup': [{'String': 'PRISMS; DECOMP @ 204 °C /L-ALANINE HYDROCHLORIDE/', 'Markup': [{'Start': 25, 'Length': 23, 'URL': 'https://pubchem.ncbi.nlm.nih.gov/compound/L-ALANINE%20HYDROCHLORIDE', 'Type': 'PubChem Internal Link', 'Extra': 'CID-165389'}]}]}}, {'ReferenceNumber': 24, 'Description': 'PEER REVIEWED', 'Reference': ['Weast, R.C. and M.J. Astle. CRC Handbook of Data on Organic Compounds. Volumes I and II. Boca Raton, FL: CRC Press Inc. 1985., p. V1 50'], 'Value': {'StringWithMarkup': [{'String': 'UV: 2-10 (Organic Electronic Spectral Data, Phillips et al, John Wiley & Sons, New York) /Alpha-alanine (dl)/', 'Markup': [{'Start': 90, 'Length': 13, 'URL': 'https://pubchem.ncbi.nlm.nih.gov/compound/Alpha-alanine', 'Type': 'PubChem Internal Link', 'Extra': 'CID-5950'}]}]}}, {'ReferenceNumber': 24, 'Description': 'PEER REVIEWED', 'Reference': ['US EPA; Estimation Program Interface (EPI) Suite. Ver.3.12. Nov 30, 2004. Available from, as of Sept 5, 2006: https://www.epa.gov/oppt/exposure/pubs/episuitedl.htm'], 'Value': {'StringWithMarkup': [{'String': 'Hydroxyl radical reaction rate constant = 3.5X10-11 cu cm/molecule-sec at 25 °C (est)', 'Markup': [{'Start': 0, 'Length': 8, 'URL': 'https://pubchem.ncbi.nlm.nih.gov/compound/Hydroxyl', 'Type': 'PubChem Internal Link', 'Extra': 'CID-157350'}]}]}}]}, {'TOCHeading': 'Chemical Classes', 'Description': 'Chemical classes are groupings that relate chemicals by similar features. Chemicals can be classified by their structure (e.g., hydrocarbons), uses (e.g., pesticides), physical properties (e.g., volatile organic compounds [VOCs]), radiological properties (e.g., radioactive materials), or other factors.', 'Information': [{'ReferenceNumber': 23, 'Value': {'StringWithMarkup': [{'String': 'Biological Agents -> Amino Acids and Derivatives'}]}}]}]}]}\n"
     ]
    }
   ],
   "source": [
    "props = get_props_section(dump)"
   ]
  },
  {
   "cell_type": "code",
   "execution_count": 48,
   "id": "d7619c0b",
   "metadata": {},
   "outputs": [],
   "source": [
    "def getpath(nested_dict, value, prepath=()):\n",
    "    for k, v in nested_dict.items():\n",
    "        path = prepath + (k,)\n",
    "        if v == value: # found value\n",
    "            return path\n",
    "        elif hasattr(v, 'items'): # v is a dict\n",
    "            p = getpath(v, value, path) # recursive call\n",
    "            if p is not None:\n",
    "                return p"
   ]
  },
  {
   "cell_type": "code",
   "execution_count": 52,
   "id": "e855427c",
   "metadata": {},
   "outputs": [
    {
     "name": "stdout",
     "output_type": "stream",
     "text": [
      "None\n"
     ]
    }
   ],
   "source": [
    "path = getpath(props, 'Experimental Properties')\n",
    "print(path)"
   ]
  },
  {
   "cell_type": "code",
   "execution_count": 59,
   "id": "5120e507",
   "metadata": {},
   "outputs": [
    {
     "name": "stdout",
     "output_type": "stream",
     "text": [
      "0 Computed Properties\n",
      "1 Experimental Properties\n"
     ]
    }
   ],
   "source": [
    "for i, sec in enumerate(props['Section']):\n",
    "    print(i, sec['TOCHeading'])"
   ]
  },
  {
   "cell_type": "code",
   "execution_count": 60,
   "id": "56f31849",
   "metadata": {},
   "outputs": [
    {
     "name": "stdout",
     "output_type": "stream",
     "text": [
      "[{'TOCHeading': 'Physical Description', 'Description': 'The appearance or features of this compound, including color, odor, state, taste and more in general.', 'Information': [{'ReferenceNumber': 14, 'Value': {'StringWithMarkup': [{'String': 'Other Solid'}]}}, {'ReferenceNumber': 23, 'Value': {'StringWithMarkup': [{'String': 'Solid; [Merck Index] White odorless solid; [HSDB] White crystalline solid; [Sigma-Aldrich MSDS]'}]}}, {'ReferenceNumber': 25, 'Value': {'StringWithMarkup': [{'String': 'Solid'}]}}]}, {'TOCHeading': 'Color/Form', 'Description': 'Color is the aspect of any object that may be described in terms of hue, lightness, and saturation.', 'URL': 'https://www.britannica.com/science/color', 'Information': [{'ReferenceNumber': 24, 'Description': 'PEER REVIEWED', 'Reference': [\"O'Neil, M.J. (ed.). The Merck Index - An Encyclopedia of  Chemicals, Drugs, and Biologicals. 13th Edition, Whitehouse  Station, NJ:  Merck and Co., Inc., 2001., p. 39\"], 'Value': {'StringWithMarkup': [{'String': 'Orthorhombic crystals from water', 'Markup': [{'Start': 27, 'Length': 5, 'URL': 'https://pubchem.ncbi.nlm.nih.gov/compound/water', 'Type': 'PubChem Internal Link', 'Extra': 'CID-962'}]}]}}, {'ReferenceNumber': 24, 'Description': 'PEER REVIEWED', 'Reference': [\"Lewis, R.J. Sax's Dangerous Properties of Industrial  Materials. 10th ed. Volumes 1-3 New York, NY: John Wiley &  Sons Inc., 1999., p. 93\"], 'Value': {'StringWithMarkup': [{'String': 'White crystalline powder'}]}}]}, {'TOCHeading': 'Odor', 'Description': 'The property of certain chemicals, in very small concentrations, to stimulate chemical sense receptors that sample the air or water.', 'URL': 'https://www.britannica.com/science/odor', 'Information': [{'ReferenceNumber': 24, 'Description': 'PEER REVIEWED', 'Reference': [\"Lewis, R.J. Sax's Dangerous Properties of Industrial  Materials. 10th ed. Volumes 1-3 New York, NY: John Wiley &  Sons Inc., 1999., p. 93\"], 'Value': {'StringWithMarkup': [{'String': 'Odorless'}]}}]}, {'TOCHeading': 'Taste', 'Description': 'The sensation of flavor perceived in the mouth and throat on contact with a substance.', 'URL': 'https://www.britannica.com/science/taste-sense', 'Information': [{'ReferenceNumber': 24, 'Description': 'PEER REVIEWED', 'Reference': [\"Lewis, R.J. Sax's Dangerous Properties of Industrial  Materials. 10th ed. Volumes 1-3 New York, NY: John Wiley &  Sons Inc., 1999., p. 93\"], 'Value': {'StringWithMarkup': [{'String': 'Sweet taste'}]}}]}, {'TOCHeading': 'Boiling Point', 'Description': 'The temperature at which this compound changes state from liquid to gas at a given atmospheric pressure.', 'URL': 'https://chem.libretexts.org/Bookshelves/Organic_Chemistry/Organic_Chemistry_Lab_Techniques_(Nichols)/06%3A_Miscellaneous_Techniques/6.02%3A_Boiling_Point', 'Information': [{'ReferenceNumber': 24, 'Description': 'PEER REVIEWED', 'Reference': ['Lide, D.R. CRC Handbook of Chemistry and Physics 86TH  Edition 2005-2006. CRC Press, Taylor & Francis, Boca Raton,  FL 2005, p. 3-10'], 'Value': {'StringWithMarkup': [{'String': '250 °C (sublimes)'}]}}]}, {'TOCHeading': 'Melting Point', 'Description': 'This section provides the melting point and/or freezing point. The melting point is the temperature at which a substance changes state from solid to liquid at atmospheric pressure. When considered as the temperature of the reverse change (from liquid to solid), it is referred to as the freezing point.', 'URL': 'https://chem.libretexts.org/Bookshelves/Organic_Chemistry/Organic_Chemistry_Lab_Techniques_(Nichols)/06%3A_Miscellaneous_Techniques/6.01%3A_Melting_Point', 'Information': [{'ReferenceNumber': 11, 'Reference': ['PhysProp'], 'Value': {'Number': [300], 'Unit': 'dec °C'}}, {'ReferenceNumber': 24, 'Description': 'PEER REVIEWED', 'Reference': ['Lide, D.R. CRC Handbook of Chemistry and Physics 86TH  Edition 2005-2006. CRC Press, Taylor & Francis, Boca Raton,  FL 2005, p. 3-10'], 'Value': {'StringWithMarkup': [{'String': '297 °C (decomposes)'}]}}, {'ReferenceNumber': 25, 'Value': {'StringWithMarkup': [{'String': '300 °C'}]}}]}, {'TOCHeading': 'Solubility', 'Description': 'The solubility of a substance is the amount of that substance that will dissolve in a given amount of solvent. The default solvent is water, if not indicated.', 'URL': 'https://chem.libretexts.org/Courses/Purdue/Purdue%3A_Chem_26505%3A_Organic_Chemistry_I_(Lipton)/Chapter_4._Intermolecular_Forces_and_Physical_Properties/4.4_Solubility', 'Information': [{'ReferenceNumber': 11, 'Reference': ['YALKOWSKY,SH & DANNENFELSER,RM (1992)'], 'Value': {'Number': [164000], 'Unit': 'mg/L (at 25 °C)'}}, {'ReferenceNumber': 24, 'Description': 'PEER REVIEWED', 'Reference': [\"O'Neil, M.J. (ed.). The Merck Index - An Encyclopedia of  Chemicals, Drugs, and Biologicals. 13th Edition, Whitehouse  Station, NJ:  Merck and Co., Inc., 2001., p. 39\"], 'Value': {'StringWithMarkup': [{'String': 'Solubility in cold 80% ethanol = 0.2%', 'Markup': [{'Start': 23, 'Length': 7, 'URL': 'https://pubchem.ncbi.nlm.nih.gov/compound/ethanol', 'Type': 'PubChem Internal Link', 'Extra': 'CID-702'}]}]}}, {'ReferenceNumber': 24, 'Description': 'PEER REVIEWED', 'Reference': ['Lide, D.R. CRC Handbook of Chemistry and Physics 86TH  Edition 2005-2006. CRC Press, Taylor & Francis, Boca Raton,  FL 2005, p. 3-10'], 'Value': {'StringWithMarkup': [{'String': 'Slightly soluble in ethanol, pyridine; insoluble in ether, acetone', 'Markup': [{'Start': 20, 'Length': 7, 'URL': 'https://pubchem.ncbi.nlm.nih.gov/compound/ethanol', 'Type': 'PubChem Internal Link', 'Extra': 'CID-702'}, {'Start': 29, 'Length': 8, 'URL': 'https://pubchem.ncbi.nlm.nih.gov/compound/pyridine', 'Type': 'PubChem Internal Link', 'Extra': 'CID-1049'}, {'Start': 59, 'Length': 7, 'URL': 'https://pubchem.ncbi.nlm.nih.gov/compound/acetone', 'Type': 'PubChem Internal Link', 'Extra': 'CID-180'}]}]}}, {'ReferenceNumber': 24, 'Description': 'PEER REVIEWED', 'Reference': ['Yalkowsky, S.H., He, Yan., Handbook of Aqueous Solubility  Data: An Extensive Compilation of Aqueous Solubility Data  for Organic Compounds Extracted from the  AQUASOL dATAbASE.  CRC Press LLC, Boca Raton, FL. 2003., p. 1992'], 'Value': {'StringWithMarkup': [{'String': 'In water, 1.64X10+5 mg/L at 25 °C', 'Markup': [{'Start': 3, 'Length': 5, 'URL': 'https://pubchem.ncbi.nlm.nih.gov/compound/water', 'Type': 'PubChem Internal Link', 'Extra': 'CID-962'}]}]}}, {'ReferenceNumber': 25, 'Reference': ['Human Metabolome Project'], 'Value': {'StringWithMarkup': [{'String': '204 mg/mL'}]}}]}, {'TOCHeading': 'Density', 'Description': 'This section provides information on the density (with unit) and specific gravity (without unit) of a compound. Density is mass of a unit volume of a compound and commonly expressed in units of kg/m3 or g/cm3. Specific gravity, also known as relative density, is a unit-less quantity, defined as the ratio of the density of a compound to that of a standard reference material (typically, water at 4 °C for liquids and air at room temperature [20 °C or 68 °F] for gases).', 'URL': 'https://chem.libretexts.org/Bookshelves/Introductory_Chemistry/Map%3A_Fundamentals_of_General_Organic_and_Biological_Chemistry_(McMurry_et_al.)/01%3A_Matter_and_Measurements/1.12%3A_Density_and_Specific_Gravity', 'Information': [{'ReferenceNumber': 24, 'Description': 'PEER REVIEWED', 'Reference': ['Lide, D.R. CRC Handbook of Chemistry and Physics 86TH  Edition 2005-2006. CRC Press, Taylor & Francis, Boca Raton,  FL 2005, p. 3-10'], 'Value': {'StringWithMarkup': [{'String': '1.432 g/cu cm at 22 °C'}]}}]}, {'TOCHeading': 'Vapor Pressure', 'Description': 'Vapor pressure (or equilibrium vapor pressure) is the pressure of a vapor in thermodynamic equilibrium with its condensed phases in a closed system.', 'URL': 'https://chem.libretexts.org/Bookshelves/General_Chemistry/Map%3A_Chemistry_-_The_Central_Science_(Brown_et_al.)/11%3A_Liquids_and_Intermolecular_Forces/11.05%3A_Vapor_Pressure', 'Information': [{'ReferenceNumber': 23, 'Value': {'StringWithMarkup': [{'String': '0.00000011 [mmHg]'}]}}, {'ReferenceNumber': 24, 'Description': 'PEER REVIEWED', 'Reference': ['US EPA; Estimation Program Interface (EPI) Suite. Ver.3.12. Nov 30, 2004. Available from, as of Sept 5, 2006: https://www.epa.gov/oppt/exposure/pubs/episuitedl.htm'], 'Value': {'StringWithMarkup': [{'String': '1.05X10-7 mm Hg at 25 °C (est)'}]}}]}, {'TOCHeading': 'LogP', 'Description': 'Log P is the partition coefficient expressed in logarithmic form.  The partition coefficient is the ratio of concentrations of a compound in a mixture of two immiscible solvents at equilibrium.  This ratio is therefore used to compare the solubilities of the solute in these two solvents.  Because octanol and water are the most commonly used pair of solvents for measuring partition coefficients, the Log P values listed in this section refer to octanol/water partition coefficients, unless indicated otherwise.', 'Information': [{'ReferenceNumber': 11, 'Reference': ['SANGSTER (1994)'], 'Value': {'Number': [-2.85]}}, {'ReferenceNumber': 24, 'Description': 'PEER REVIEWED', 'Reference': ['Sangster J; LOGKOW Database. A databank of evaluated octanol-water partition coefficients (Log P). Available from, as of Sept 5, 2006: https://logkow.cisti.nrc.ca/logkow/search.html'], 'Value': {'StringWithMarkup': [{'String': 'log Kow = -2.85'}]}}, {'ReferenceNumber': 25, 'Reference': ['SANGSTER (1994)'], 'Value': {'StringWithMarkup': [{'String': '-2.85'}]}}]}, {'TOCHeading': \"Henry's Law Constant\", 'Description': \"Henry's law states that the amount of dissolved gas (in liquid, such as water) is proportional to its partial pressure in the gas phase. The proportionality factor is called the Henry's law constant and defined as the ratio of a compound's partial pressure in air to the concentration of the compound in water at a given temperature.\", 'URL': 'https://chem.libretexts.org/Bookshelves/Physical_and_Theoretical_Chemistry_Textbook_Maps/Supplemental_Modules_(Physical_and_Theoretical_Chemistry)/Physical_Properties_of_Matter/Solutions_and_Mixtures/Ideal_Solutions/Dissolving_Gases_In_Liquids%2C_Henry%27s_Law', 'Information': [{'ReferenceNumber': 24, 'Description': 'PEER REVIEWED', 'Reference': ['US EPA; Estimation Program Interface (EPI) Suite. Ver.3.12. Nov 30, 2004. Available from, as of Sept 5, 2006: https://www.epa.gov/oppt/exposure/pubs/episuitedl.htm'], 'Value': {'StringWithMarkup': [{'String': \"Henry's Law constant = 1.5X10-9 atm-cu m/mol at 25 °C (est)\"}]}}]}, {'TOCHeading': 'Optical Rotation', 'Description': 'Optical rotation is a property of chiral substances that is expressed as the angle to which the material causes polarized light to rotate at a particular temperature, wavelength, and concentration.', 'URL': 'https://chem.libretexts.org/Bookshelves/Organic_Chemistry/Book%3A_Organic_Chemistry_with_a_Biological_Emphasis_v2.0_(Soderberg)/03%3A_Conformations_and_Stereochemistry/3.06%3A_Optical_Activity', 'Information': [{'ReferenceNumber': 24, 'Description': 'PEER REVIEWED', 'Reference': [\"O'Neil, M.J. (ed.). The Merck Index - An Encyclopedia of  Chemicals, Drugs, and Biologicals. 13th Edition, Whitehouse  Station, NJ:  Merck and Co., Inc., 2001., p. 39\"], 'Value': {'StringWithMarkup': [{'String': 'Specific optical rotation= +2.42 °For D-sodium line at 25 °C (c = 10 in H2O); +13.7 °For D sodium line at 25 °C (c = 2.063 in 6N HCl)', 'Markup': [{'Start': 40, 'Length': 6, 'URL': 'https://pubchem.ncbi.nlm.nih.gov/element/Sodium', 'Type': 'PubChem Internal Link', 'Extra': 'Element-Sodium'}, {'Start': 91, 'Length': 6, 'URL': 'https://pubchem.ncbi.nlm.nih.gov/element/Sodium', 'Type': 'PubChem Internal Link', 'Extra': 'Element-Sodium'}]}]}}, {'ReferenceNumber': 24, 'Description': 'PEER REVIEWED', 'Reference': ['Weast, R.C. (ed.). Handbook of Chemistry and Physics. 60th ed. Boca Raton, Florida: CRC Press Inc., 1979., p. C-103'], 'Value': {'StringWithMarkup': [{'String': 'SPECIFIC OPTICAL ROTATION: +2.8 DEG @ 25 °C/D (WATER, CONCN= 6%); SPECIFIC OPTICAL ROTATION: +9.55 DEG @ 25 °C/D (HYDROCHLORIC ACID)', 'Markup': [{'Start': 47, 'Length': 5, 'URL': 'https://pubchem.ncbi.nlm.nih.gov/compound/WATER', 'Type': 'PubChem Internal Link', 'Extra': 'CID-962'}, {'Start': 114, 'Length': 17, 'URL': 'https://pubchem.ncbi.nlm.nih.gov/compound/HYDROCHLORIC%20ACID', 'Type': 'PubChem Internal Link', 'Extra': 'CID-313'}]}]}}]}, {'TOCHeading': 'Ionization Efficiency', 'Description': 'The ratio of the number of ions formed to the number of electrons or photons used in an ionization process.', 'URL': 'https://goldbook.iupac.org/terms/view/I03196', 'DisplayControls': {'CreateTable': {'FromInformationIn': 'ThisSection', 'NumberOfColumns': 2, 'ColumnContents': ['Name', 'Value']}, 'ListType': 'CommaSeparated'}, 'Information': [{'ReferenceNumber': 44, 'Name': 'Ionization mode', 'Value': {'StringWithMarkup': [{'String': 'Positive'}]}}, {'ReferenceNumber': 44, 'Name': 'logIE', 'Value': {'StringWithMarkup': [{'String': '2.17'}]}}, {'ReferenceNumber': 44, 'Name': 'pH', 'Value': {'StringWithMarkup': [{'String': '2.7'}]}}, {'ReferenceNumber': 44, 'Name': 'Instrument', 'Value': {'StringWithMarkup': [{'String': 'Agilent XCT'}]}}, {'ReferenceNumber': 44, 'Name': 'Ion source', 'Value': {'StringWithMarkup': [{'String': 'Electrospray ionization'}]}}, {'ReferenceNumber': 44, 'Name': 'Additive', 'Value': {'StringWithMarkup': [{'String': 'formic acid (5.3nM)'}]}}, {'ReferenceNumber': 44, 'Name': 'Organic modifier', 'Value': {'StringWithMarkup': [{'String': 'MeCN (80%)'}]}}, {'ReferenceNumber': 44, 'Name': 'Reference', 'Value': {'StringWithMarkup': [{'String': 'DOI:10.1021/acs.analchem.7b00111', 'Markup': [{'Start': 4, 'Length': 29, 'URL': 'https://doi.org/10.1021/acs.analchem.7b00111'}]}]}}]}, {'TOCHeading': 'Dissociation Constants', 'Description': 'A specific type of equilibrium constant that measures the propensity of a larger object to separate (dissociate) reversibly into smaller components, as when a complex falls apart into its component molecules, or when a salt splits up into its component ions. This includes pKa (the negative logarithm of the acid dissociation constant) and pKb (the negative logarithm of the base dissociation constant).', 'Information': [{'ReferenceNumber': 11, 'Name': 'pKa', 'Reference': ['KORTUM,G ET AL (1961)'], 'Value': {'StringWithMarkup': [{'String': '2.34 (at 25 °C)'}]}}, {'ReferenceNumber': 24, 'Description': 'PEER REVIEWED', 'Reference': ['Araki K, Ozeki T; Kirk-Othmer Encyclopedia of Chemical Technology. (2005). NY, NY: John Wiley & Sons; Amino Acids. Online Posting Date: July 18, 2003.'], 'Value': {'StringWithMarkup': [{'String': 'pKa1 = 2.34 /carboxylic acid/; pKa2 = 9.69 /primary amine/'}]}}]}, {'TOCHeading': 'Other Experimental Properties', 'Description': 'Other experimental properties of this chemical.', 'Information': [{'ReferenceNumber': 24, 'Description': 'PEER REVIEWED', 'Reference': ['Budavari, S. (ed.). The Merck Index - Encyclopedia of Chemicals, Drugs and Biologicals. Rahway, NJ: Merck and Co., Inc., 1989., p. 35'], 'Value': {'StringWithMarkup': [{'String': 'PRISMS; DECOMP @ 204 °C /L-ALANINE HYDROCHLORIDE/', 'Markup': [{'Start': 25, 'Length': 23, 'URL': 'https://pubchem.ncbi.nlm.nih.gov/compound/L-ALANINE%20HYDROCHLORIDE', 'Type': 'PubChem Internal Link', 'Extra': 'CID-165389'}]}]}}, {'ReferenceNumber': 24, 'Description': 'PEER REVIEWED', 'Reference': ['Weast, R.C. and M.J. Astle. CRC Handbook of Data on Organic Compounds. Volumes I and II. Boca Raton, FL: CRC Press Inc. 1985., p. V1 50'], 'Value': {'StringWithMarkup': [{'String': 'UV: 2-10 (Organic Electronic Spectral Data, Phillips et al, John Wiley & Sons, New York) /Alpha-alanine (dl)/', 'Markup': [{'Start': 90, 'Length': 13, 'URL': 'https://pubchem.ncbi.nlm.nih.gov/compound/Alpha-alanine', 'Type': 'PubChem Internal Link', 'Extra': 'CID-5950'}]}]}}, {'ReferenceNumber': 24, 'Description': 'PEER REVIEWED', 'Reference': ['US EPA; Estimation Program Interface (EPI) Suite. Ver.3.12. Nov 30, 2004. Available from, as of Sept 5, 2006: https://www.epa.gov/oppt/exposure/pubs/episuitedl.htm'], 'Value': {'StringWithMarkup': [{'String': 'Hydroxyl radical reaction rate constant = 3.5X10-11 cu cm/molecule-sec at 25 °C (est)', 'Markup': [{'Start': 0, 'Length': 8, 'URL': 'https://pubchem.ncbi.nlm.nih.gov/compound/Hydroxyl', 'Type': 'PubChem Internal Link', 'Extra': 'CID-157350'}]}]}}]}, {'TOCHeading': 'Chemical Classes', 'Description': 'Chemical classes are groupings that relate chemicals by similar features. Chemicals can be classified by their structure (e.g., hydrocarbons), uses (e.g., pesticides), physical properties (e.g., volatile organic compounds [VOCs]), radiological properties (e.g., radioactive materials), or other factors.', 'Information': [{'ReferenceNumber': 23, 'Value': {'StringWithMarkup': [{'String': 'Biological Agents -> Amino Acids and Derivatives'}]}}]}]\n"
     ]
    }
   ],
   "source": [
    "print(props['Section'][1]['Section'])"
   ]
  },
  {
   "cell_type": "code",
   "execution_count": 61,
   "id": "ea836d2e",
   "metadata": {},
   "outputs": [],
   "source": [
    "melting_point = requests.get(f\"https://pubchem.ncbi.nlm.nih.gov/rest/pug_view/data/compound/6322/XML?heading=Melting+Point\")\n",
    "xml_melting = melting_point.content"
   ]
  },
  {
   "cell_type": "code",
   "execution_count": 62,
   "id": "a92c297d",
   "metadata": {},
   "outputs": [
    {
     "name": "stdout",
     "output_type": "stream",
     "text": [
      "b'<?xml version=\"1.0\" encoding=\"UTF-8\"?>\\n<Record\\n    xmlns=\"http://pubchem.ncbi.nlm.nih.gov/pug_view\"\\n    xmlns:xs=\"http://www.w3.org/2001/XMLSchema-instance\"\\n    xs:schemaLocation=\"http://pubchem.ncbi.nlm.nih.gov/pug_view https://pubchem.ncbi.nlm.nih.gov/pug_view/pug_view.xsd\"\\n>\\n  <RecordType>CID</RecordType>\\n  <RecordNumber>6322</RecordNumber>\\n  <RecordTitle>Arginine</RecordTitle>\\n  <Section>\\n    <TOCHeading>Chemical and Physical Properties</TOCHeading>\\n    <Description>Various chemical and physical properties that are experimentally determined for this compound.  See also the Safety and Hazard Properties section (if available), which has additional properties pertinent to chemical safety and hazards.</Description>\\n    <Section>\\n      <TOCHeading>Experimental Properties</TOCHeading>\\n      <Description>Various experimentally determined properties for this compound.  See also the Safety and Hazard Properties section (if available), which has additional properties pertinent to chemical safety and hazards.</Description>\\n      <Section>\\n        <TOCHeading>Melting Point</TOCHeading>\\n        <Description>This section provides the melting point and/or freezing point. The melting point is the temperature at which a substance changes state from solid to liquid at atmospheric pressure. When considered as the temperature of the reverse change (from liquid to solid), it is referred to as the freezing point.</Description>\\n        <URL>https://chem.libretexts.org/Bookshelves/Organic_Chemistry/Organic_Chemistry_Lab_Techniques_(Nichols)/06%3A_Miscellaneous_Techniques/6.01%3A_Melting_Point</URL>\\n        <Information>\\n          <ReferenceNumber>19</ReferenceNumber>\\n          <Reference>PhysProp</Reference>\\n          <Value>\\n            <Number>244</Number>\\n            <Unit>dec \\xc2\\xb0C</Unit>\\n          </Value>\\n        </Information>\\n        <Information>\\n          <ReferenceNumber>34</ReferenceNumber>\\n          <Description>PEER REVIEWED</Description>\\n          <Reference>Lide, DR (ed.). CRC Handbook of Chemistry and Physics. 81st Edition. CRC Press LLC, Boca Raton: FL 2000, p. 3-14</Reference>\\n          <Value>\\n            <StringWithMarkup>\\n              <String>244 \\xc2\\xb0C</String>\\n            </StringWithMarkup>\\n          </Value>\\n        </Information>\\n        <Information>\\n          <ReferenceNumber>35</ReferenceNumber>\\n          <Value>\\n            <StringWithMarkup>\\n              <String>222 \\xc2\\xb0C</String>\\n            </StringWithMarkup>\\n          </Value>\\n        </Information>\\n      </Section>\\n    </Section>\\n  </Section>\\n  <Reference>\\n    <ReferenceNumber>19</ReferenceNumber>\\n    <SourceName>DrugBank</SourceName>\\n    <SourceID>DB00125</SourceID>\\n    <Name>Arginine</Name>\\n    <Description>The DrugBank database is a unique bioinformatics and cheminformatics resource that combines detailed drug (i.e. chemical, pharmacological and pharmaceutical) data with comprehensive drug target (i.e. sequence, structure, and pathway) information.</Description>\\n    <URL>https://www.drugbank.ca/drugs/DB00125</URL>\\n    <LicenseNote>Creative Common&apos;s Attribution-NonCommercial 4.0 International License (http://creativecommons.org/licenses/by-nc/4.0/legalcode)</LicenseNote>\\n    <LicenseURL>https://www.drugbank.ca/legal/terms_of_use</LicenseURL>\\n    <ANID>3599580</ANID>\\n  </Reference>\\n  <Reference>\\n    <ReferenceNumber>34</ReferenceNumber>\\n    <SourceName>Hazardous Substances Data Bank (HSDB)</SourceName>\\n    <SourceID>1429</SourceID>\\n    <Name>(L)-ARGININE</Name>\\n    <Description>The Hazardous Substances Data Bank (HSDB) is a toxicology database that focuses on the toxicology of potentially hazardous chemicals. It provides information on human exposure, industrial hygiene, emergency handling procedures, environmental fate, regulatory requirements, nanomaterials, and related areas. The information in HSDB has been assessed by a Scientific Review Panel.</Description>\\n    <URL>https://pubchem.ncbi.nlm.nih.gov/source/hsdb/1429</URL>\\n    <IsToxnet>true</IsToxnet>\\n    <ANID>1230</ANID>\\n  </Reference>\\n  <Reference>\\n    <ReferenceNumber>35</ReferenceNumber>\\n    <SourceName>Human Metabolome Database (HMDB)</SourceName>\\n    <SourceID>HMDB0000517</SourceID>\\n    <Name>L-Arginine</Name>\\n    <Description>The Human Metabolome Database (HMDB) is a freely available electronic database containing detailed information about small molecule metabolites found in the human body.</Description>\\n    <URL>http://www.hmdb.ca/metabolites/HMDB0000517</URL>\\n    <LicenseNote>&#x9;HMDB is offered to the public as a freely available resource. Use and re-distribution of the data, in whole or in part, for commercial purposes requires explicit permission of the authors and explicit acknowledgment of the source material (HMDB) and the original publication (see the HMDB citing page). We ask that users who download significant portions of the database cite the HMDB paper in any resulting publications.</LicenseNote>\\n    <LicenseURL>http://www.hmdb.ca/citing</LicenseURL>\\n    <ANID>2142562</ANID>\\n  </Reference>\\n</Record>\\n'\n"
     ]
    }
   ],
   "source": [
    "print(xml_melting)"
   ]
  },
  {
   "cell_type": "code",
   "execution_count": null,
   "id": "d892fce7",
   "metadata": {},
   "outputs": [],
   "source": []
  }
 ],
 "metadata": {
  "kernelspec": {
   "display_name": "Python 3 (ipykernel)",
   "language": "python",
   "name": "python3"
  },
  "language_info": {
   "codemirror_mode": {
    "name": "ipython",
    "version": 3
   },
   "file_extension": ".py",
   "mimetype": "text/x-python",
   "name": "python",
   "nbconvert_exporter": "python",
   "pygments_lexer": "ipython3",
   "version": "3.10.6"
  }
 },
 "nbformat": 4,
 "nbformat_minor": 5
}
