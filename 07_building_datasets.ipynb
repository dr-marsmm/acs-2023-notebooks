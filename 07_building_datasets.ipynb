{
 "cells": [
  {
   "cell_type": "code",
   "execution_count": null,
   "id": "cd357940",
   "metadata": {},
   "outputs": [],
   "source": [
    "import json\n",
    "import numpy as np\n",
    "import pandas as pd\n",
    "import matplotlib.pyplot as plt\n",
    "\n",
    "from rdkit import Chem\n",
    "from rdkit.Chem import Descriptors\n",
    "from rdkit.Chem import AllChem\n",
    "from rdkit.Chem import Draw\n",
    "from rdkit.Chem.Draw import IPythonConsole\n",
    "\n",
    "# Create a list of Mol objects\n",
    "amino_acid_supplier = Chem.SDMolSupplier('data/amino_acids/amino_acids-nat20.sdf', sanitize=False, removeHs=False, strictParsing=False)\n",
    "\n",
    "# Set flags for a limited sanitization (full sanitization results in bad aromaticity detection).\n",
    "s_flags = Chem.rdmolops.SanitizeFlags.SANITIZE_CLEANUP|Chem.rdmolops.SanitizeFlags.SANITIZE_FINDRADICALS|Chem.rdmolops.SanitizeFlags.SANITIZE_CLEANUPCHIRALITY|Chem.rdmolops.SanitizeFlags.SANITIZE_PROPERTIES|Chem.rdmolops.SanitizeFlags.SANITIZE_ADJUSTHS|Chem.rdmolops.SanitizeFlags.SANITIZE_SETHYBRIDIZATION\n",
    "\n",
    "# Make a list of the molecule names, instantiated Mol objects and sanitize using the flags set\n",
    "mol_list = []\n",
    "amino_acids = []\n",
    "for mol in amino_acid_supplier:\n",
    "    mol_name = mol.GetProp('_Name')\n",
    "    mol_list += [mol_name]\n",
    "    newmol = Chem.Mol(mol)    # See \"Creating, Visualizing, ...\" for why this is necessary\n",
    "    amino_acids += [newmol]\n",
    "    Chem.SanitizeMol(mol, sanitizeOps=s_flags, catchErrors=True)"
   ]
  },
  {
   "cell_type": "code",
   "execution_count": null,
   "id": "78048421",
   "metadata": {},
   "outputs": [],
   "source": [
    "def get_inchi(mol):\n",
    "    inchi_plus = Chem.rdinchi.MolToInchi(mol)\n",
    "    inchi = inchi_plus[0]\n",
    "    inchi_key = Chem.rdinchi.InchiToInchiKey(inchi)\n",
    "    \n",
    "    return inchi_key, inchi\n",
    "\n",
    "inchi_list = []\n",
    "inchi_keys = []\n",
    "for i, mol in enumerate(amino_acids):    \n",
    "    key, inchi = get_inchi(mol)\n",
    "    inchi_list += inchi\n",
    "    inchi_keys += key\n",
    "    print(f\"{mol_list[i]}:\\t{key}\")"
   ]
  },
  {
   "cell_type": "code",
   "execution_count": null,
   "id": "c363e871",
   "metadata": {},
   "outputs": [],
   "source": [
    "import requests"
   ]
  },
  {
   "cell_type": "code",
   "execution_count": null,
   "id": "0c571a27",
   "metadata": {},
   "outputs": [],
   "source": [
    "baseurl = 'https://api.rsc.org/compounds/v1/'\n",
    "url = baseurl + 'filter/inchikey'\n",
    "header = {'apikey': 'fp50xEeMoQGxZGkP0a6CGXMk8g9IPX3k'}\n",
    "inp = {\n",
    "    'inchikey': 'QNAYBMKLOCPYGJ-REOHCLBHSA-N'\n",
    "}\n",
    "r = requests.post(url, headers=header, json=inp)"
   ]
  },
  {
   "cell_type": "code",
   "execution_count": null,
   "id": "6e393be1",
   "metadata": {},
   "outputs": [],
   "source": [
    "response = r.json()\n",
    "print(response)\n",
    "qid = response['queryId']\n",
    "print(qid)"
   ]
  },
  {
   "cell_type": "code",
   "execution_count": null,
   "id": "07e4800e",
   "metadata": {},
   "outputs": [],
   "source": [
    "url = baseurl + f\"filter/{qid}/results\"\n",
    "r2 = requests.get(url, headers=header)"
   ]
  },
  {
   "cell_type": "code",
   "execution_count": null,
   "id": "e3433b00",
   "metadata": {},
   "outputs": [],
   "source": [
    "r2.json()"
   ]
  },
  {
   "cell_type": "code",
   "execution_count": null,
   "id": "d7619c0b",
   "metadata": {},
   "outputs": [],
   "source": [
    "url = baseurl + 'records/5735/externalreferences'\n",
    "r3 = requests.get(url, headers=header)"
   ]
  },
  {
   "cell_type": "code",
   "execution_count": null,
   "id": "e855427c",
   "metadata": {},
   "outputs": [],
   "source": [
    "r3.status_code"
   ]
  },
  {
   "cell_type": "code",
   "execution_count": null,
   "id": "5120e507",
   "metadata": {},
   "outputs": [],
   "source": [
    "r3.json()"
   ]
  },
  {
   "cell_type": "code",
   "execution_count": null,
   "id": "56f31849",
   "metadata": {},
   "outputs": [],
   "source": []
  }
 ],
 "metadata": {
  "kernelspec": {
   "display_name": "Python 3 (ipykernel)",
   "language": "python",
   "name": "python3"
  },
  "language_info": {
   "codemirror_mode": {
    "name": "ipython",
    "version": 3
   },
   "file_extension": ".py",
   "mimetype": "text/x-python",
   "name": "python",
   "nbconvert_exporter": "python",
   "pygments_lexer": "ipython3",
   "version": "3.10.6"
  }
 },
 "nbformat": 4,
 "nbformat_minor": 5
}
